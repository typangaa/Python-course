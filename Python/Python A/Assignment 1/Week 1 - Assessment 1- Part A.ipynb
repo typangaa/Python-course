{
 "cells": [
  {
   "cell_type": "markdown",
   "metadata": {},
   "source": [
    "# Blood Glucose Data\n",
    "This section is to create the blood glucose level data of 5 persons without diabetes and the normal values are ranged from 60 mg/dL to 126 mg/dL."
   ]
  },
  {
   "cell_type": "code",
   "execution_count": 1,
   "metadata": {},
   "outputs": [
    {
     "name": "stdout",
     "output_type": "stream",
     "text": [
      "Person 1 blood glocuse level: 104 mg/dL\n",
      "Person 2 blood glocuse level: 77 mg/dL\n",
      "Person 3 blood glocuse level: 82 mg/dL\n",
      "Person 4 blood glocuse level: 118 mg/dL\n",
      "Person 5 blood glocuse level: 88 mg/dL\n"
     ]
    }
   ],
   "source": [
    "from random import randint\n",
    "import numpy as np\n",
    "\n",
    "#Create the person_BGL array\n",
    "person_BGL = np.arange(5)\n",
    "\n",
    "#Loop through the person_BGL array\n",
    "for x in range(5):\n",
    "    person_BGL[x] = (randint(60,126)) #Assign random value\n",
    "    print(\"Person\",x+1,\"blood glocuse level:\",person_BGL[x],\"mg/dL\") #Print out the result\n"
   ]
  },
  {
   "cell_type": "markdown",
   "metadata": {},
   "source": [
    "# BML calculator\n",
    "The second section is to calculates the Body Mass Index (BMI) in kg/m^2. It prompts the user to provide their height and weight information and output their BMI values(round to 2 decimal places)"
   ]
  },
  {
   "cell_type": "code",
   "execution_count": 2,
   "metadata": {},
   "outputs": [
    {
     "name": "stdout",
     "output_type": "stream",
     "text": [
      "Please enter your height(in meter): 1.73\n",
      "Please enter your weight(in kg): 60\n",
      "Your BMI is: 20.05 kg/m^2\n"
     ]
    }
   ],
   "source": [
    "height_text = input(\"Please enter your height(in meter): \") #Input for height\n",
    "weight_text = input(\"Please enter your weight(in kg): \") #Input for weight\n",
    "\n",
    "\n",
    "try:\n",
    "    height = float(height_text) #Change the input of height to floating value\n",
    "    weight = float(weight_text) #Change the input of weight to floating value\n",
    "    BMI = round(weight/(height*height),2) #Calculate the BMI\n",
    "    print(\"Your BMI is:\",BMI,\"kg/m^2\")\n",
    "    \n",
    "#except when there is error\n",
    "except ZeroDivisionError: \n",
    "    print(\"Dividsion by Zero\") \n",
    "except:\n",
    "    print(\"Incorrect input\")"
   ]
  },
  {
   "cell_type": "markdown",
   "metadata": {},
   "source": [
    "# DNA sequence and nucleobase counts\n",
    "The final section is to convert the users inputed DNA sequence into a proper format and then count the number of numcleobase in the sequence. \n"
   ]
  },
  {
   "cell_type": "code",
   "execution_count": 3,
   "metadata": {},
   "outputs": [
    {
     "name": "stdout",
     "output_type": "stream",
     "text": [
      "Please enter your DNA sequence: AagGG,,TC\n",
      "Your DNA sequence is: AAGGGTC \n",
      "\n",
      "The nucleobase counts are as below:\n",
      "Adenine: 2\n",
      "Guanine: 3\n",
      "Cytosine: 1\n",
      "Thymine: 1\n"
     ]
    }
   ],
   "source": [
    "#Input for DNA sequence\n",
    "DNA_input = input(\"Please enter your DNA sequence: \")\n",
    "#Change the input of DNA sequence to upper case and remove \",\"\n",
    "DNA_upper = DNA_input.upper()\n",
    "DNA_sequence = DNA_upper.replace(\",\", \"\")\n",
    "#Print out the DNA sequence\n",
    "print(\"Your DNA sequence is:\",DNA_sequence,\"\\n\")\n",
    "\n",
    "#Initial the counting variables for Adenine, Guanine, Cytosine,Thymine\n",
    "count_Adenine = 0\n",
    "count_Guanine = 0\n",
    "count_Cytosin = 0\n",
    "count_Thymine = 0\n",
    "#Count the number of nucleobase in DNA sequence\n",
    "for elem in DNA_sequence:\n",
    "    if elem == \"A\":\n",
    "        count_Adenine += 1\n",
    "    if elem == \"G\":\n",
    "        count_Guanine += 1\n",
    "    if elem == \"C\":\n",
    "        count_Cytosin += 1\n",
    "    if elem == \"T\":\n",
    "        count_Thymine += 1\n",
    "#Print out the result\n",
    "print(\"The nucleobase counts are as below:\")\n",
    "print(\"Adenine:\",count_Adenine)\n",
    "print(\"Guanine:\",count_Guanine)\n",
    "print(\"Cytosine:\",count_Cytosin)\n",
    "print(\"Thymine:\",count_Thymine)"
   ]
  },
  {
   "cell_type": "code",
   "execution_count": null,
   "metadata": {},
   "outputs": [],
   "source": []
  }
 ],
 "metadata": {
  "kernelspec": {
   "display_name": "Python 3",
   "language": "python",
   "name": "python3"
  },
  "language_info": {
   "codemirror_mode": {
    "name": "ipython",
    "version": 3
   },
   "file_extension": ".py",
   "mimetype": "text/x-python",
   "name": "python",
   "nbconvert_exporter": "python",
   "pygments_lexer": "ipython3",
   "version": "3.7.6"
  }
 },
 "nbformat": 4,
 "nbformat_minor": 2
}
